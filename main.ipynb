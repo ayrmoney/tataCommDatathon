{
 "cells": [
  {
   "cell_type": "code",
   "execution_count": null,
   "id": "c26ef425",
   "metadata": {},
   "outputs": [],
   "source": [
    "import numpy as np\n",
    "import pandas as pd\n",
    "import matplotlib.pyplot as plt\n",
    "from prophet import Prophet\n",
    "from tqdm.notebook import tqdm, trange\n",
    "import datetime\n",
    "from multiprocessing import Pool, cpu_count\n",
    "from hyperopt import STATUS_OK, hp, pyll, tpe, fmin, Trials\n",
    "import csv\n",
    "import functools"
   ]
  },
  {
   "cell_type": "markdown",
   "id": "ec638db2",
   "metadata": {},
   "source": [
    "### EDA"
   ]
  },
  {
   "cell_type": "code",
   "execution_count": null,
   "id": "798fe301",
   "metadata": {},
   "outputs": [],
   "source": [
    "data = pd.read_csv('train.csv')\n",
    "# Month1 is Dec 2013, Month 72 is Nov 2019"
   ]
  },
  {
   "cell_type": "code",
   "execution_count": null,
   "id": "6c94badd",
   "metadata": {},
   "outputs": [],
   "source": [
    "regions = data['Region_Name']\n",
    "data = data.iloc[:,1:]"
   ]
  },
  {
   "cell_type": "code",
   "execution_count": null,
   "id": "b6d389b1",
   "metadata": {},
   "outputs": [],
   "source": [
    "for i in trange(len(data), desc='Removing Outliers - '):\n",
    "    region_data = data.iloc[i]\n",
    "    q1 = np.percentile(region_data, 25)\n",
    "    q3 = np.percentile(region_data, 75)\n",
    "    upperFence = q3 + 1.5*(q3-q1)\n",
    "    lowerFence = q1 - 1.5*(q3-q1)\n",
    "    for j in range(len(region_data)):\n",
    "        if region_data[j]>upperFence or region_data[j]<lowerFence:\n",
    "            region_data[j] = np.nan\n",
    "    data.iloc[i] = region_data"
   ]
  },
  {
   "cell_type": "code",
   "execution_count": null,
   "id": "20b47cb6",
   "metadata": {},
   "outputs": [],
   "source": [
    "'''i = 12\n",
    "fig, (ax1,ax2) = plt.subplots(1,2)\n",
    "fig.set_figheight(4.8)\n",
    "fig.set_figwidth(15)\n",
    "ax1.boxplot(data.iloc[i])\n",
    "ax1.set(xlabel=regions[i])\n",
    "xdata = np.arange(1,73,1)\n",
    "ax2.plot(xdata,data.iloc[i])\n",
    "ax2.set(xlabel='Month')\n",
    "ax2.set(ylabel=regions[i])\n",
    "plt.show()'''"
   ]
  },
  {
   "cell_type": "markdown",
   "id": "5faa2f0d",
   "metadata": {},
   "source": [
    "Still, not able to check all regions for outliers! "
   ]
  },
  {
   "cell_type": "markdown",
   "id": "8b942568",
   "metadata": {},
   "source": [
    "### Data pre-processing & Training"
   ]
  },
  {
   "cell_type": "markdown",
   "id": "265508bf",
   "metadata": {},
   "source": [
    "For using prophet need to have a ds column with YYYY-MM-DD format, and a y column with numeric measurements. "
   ]
  },
  {
   "cell_type": "markdown",
   "id": "9e03192b",
   "metadata": {},
   "source": [
    "### With parallel  processing"
   ]
  },
  {
   "cell_type": "code",
   "execution_count": null,
   "id": "bc868efa",
   "metadata": {},
   "outputs": [],
   "source": [
    "train_data = data.iloc[:,0:64]\n",
    "validate_data = data.iloc[:,64:]\n",
    "train_ds = pd.date_range('2013-12','2019-04',freq='M')\n",
    "predicted_data = pd.DataFrame()"
   ]
  },
  {
   "cell_type": "code",
   "execution_count": null,
   "id": "7f4a0188",
   "metadata": {},
   "outputs": [],
   "source": [
    "def run_prophet(timeseries, changepoint_prior_scale=0.05, seasonality_mode='additive', seasonality_prior_scale=10, holidays_prior_scale=10, changepoint_range=0.8):\n",
    "    m = Prophet(changepoint_prior_scale=changepoint_prior_scale, seasonality_mode=seasonality_mode, seasonality_prior_scale=seasonality_prior_scale, holidays_prior_scale=holidays_prior_scale, changepoint_range=changepoint_range)\n",
    "    m.add_country_holidays(country_name='IN')\n",
    "    m.fit(timeseries)\n",
    "    forecast = m.predict(m.make_future_dataframe(periods=8, freq='M'))[['yhat']].tail(8).transpose()\n",
    "    forecast.columns = ['Month 65','Month 66','Month 67','Month 68','Month 69','Month 70','Month 71','Month 72']\n",
    "    return forecast"
   ]
  },
  {
   "cell_type": "code",
   "execution_count": null,
   "id": "ff4c64e2",
   "metadata": {},
   "outputs": [],
   "source": [
    "timeseries =[]\n",
    "for i in trange(len(train_data)):\n",
    "    train_dataset = pd.DataFrame()\n",
    "    y = []\n",
    "    for j in range(len(train_data.iloc[i])):\n",
    "        y.append(train_data.iloc[i][j])\n",
    "    train_dataset['ds'] = train_ds\n",
    "    train_dataset['y'] = y\n",
    "    timeseries.append(train_dataset)"
   ]
  },
  {
   "cell_type": "code",
   "execution_count": null,
   "id": "f2014ed6",
   "metadata": {},
   "outputs": [],
   "source": [
    "'''p = Pool(cpu_count())\n",
    "forecast = list(tqdm(p.imap(run_prophet, timeseries), total=len(timeseries), desc='Training Dataset'))\n",
    "p.close()\n",
    "p.join()'''"
   ]
  },
  {
   "cell_type": "code",
   "execution_count": null,
   "id": "75e9fb9d",
   "metadata": {},
   "outputs": [],
   "source": [
    "'''predicted_data = pd.DataFrame()\n",
    "for i in range(len(forecast)):\n",
    "    predicted_data = pd.concat([predicted_data,forecast[i]])\n",
    "predicted_data = predicted_data.reset_index(drop=True)'''"
   ]
  },
  {
   "cell_type": "code",
   "execution_count": null,
   "id": "45b9a40b",
   "metadata": {},
   "outputs": [],
   "source": [
    "def mape(predicted_data, validate_data):\n",
    "    overall_mape=0\n",
    "    overall_mape_sum=0\n",
    "    for i in trange(0,predicted_data.shape[0]): #looping through the regions\n",
    "        region_mape=0\n",
    "        for j in range(1,predicted_data.shape[1]): #looping through the months\n",
    "            actual_value=validate_data.iloc[i][j]\n",
    "            predicted_value=predicted_data.iloc[i][j]\n",
    "            \n",
    "            if np.isnan(actual_value) or np.isnan(predicted_value):\n",
    "                pass\n",
    "            else:\n",
    "                if(actual_value!=0 and predicted_value!=0):\n",
    "                    mape=((actual_value-predicted_value)/actual_value)*100\n",
    "                    if(mape<0):\n",
    "                        mape=mape*(-1)\n",
    "                    region_mape=region_mape+mape\n",
    "                else:\n",
    "                    pass\n",
    "\n",
    "        # mape_df.at[i,'Mape_score']=region_mape\n",
    "        overall_mape_sum=overall_mape_sum+region_mape\n",
    "\n",
    "    #print(overall_mape)\n",
    "    #print(overall_mape/validation_df.shape[0])\n",
    "    overall_mape=(overall_mape_sum/predicted_data.shape[0])\n",
    "    return overall_mape"
   ]
  },
  {
   "cell_type": "code",
   "execution_count": null,
   "id": "f591186d",
   "metadata": {},
   "outputs": [],
   "source": [
    "out_file = 'prophet_trials.csv'\n",
    "of_connection = open(out_file, 'a')\n",
    "writer = csv.writer(of_connection)\n",
    "\n",
    "# Write the headers to the file\n",
    "writer.writerow(['iteration', 'loss', 'params'])\n",
    "of_connection.close()"
   ]
  },
  {
   "cell_type": "code",
   "execution_count": null,
   "id": "ebdeaa25",
   "metadata": {},
   "outputs": [],
   "source": [
    "def objective(params):\n",
    "    global ITERATION\n",
    "    ITERATION += 1\n",
    "    pbar = tqdm(total=MAX_EVALS, desc=\"Hyperopt\")\n",
    "    \n",
    "    p = Pool(cpu_count())\n",
    "    forecast = list(tqdm(p.imap(functools.partial(run_prophet, changepoint_prior_scale=params['changepoint_prior_scale'], seasonality_mode=params['seasonality_mode'], seasonality_prior_scale=params['seasonality_prior_scale'], holidays_prior_scale=params['holidays_prior_scale'], changepoint_range=params['changepoint_range']), timeseries), total=len(timeseries), desc=f'Training Dataset {ITERATION}'))\n",
    "    p.close()\n",
    "    p.join()\n",
    "    \n",
    "    predicted_data = pd.DataFrame()\n",
    "    for i in range(len(forecast)):\n",
    "        predicted_data = pd.concat([predicted_data,forecast[i]])\n",
    "    predicted_data = predicted_data.reset_index(drop=True)\n",
    "    \n",
    "    loss = mape(predicted_data, validate_data)\n",
    "    \n",
    "    of_connection = open(out_file, 'a')\n",
    "    writer = csv.writer(of_connection)\n",
    "    writer.writerow([ITERATION, loss, params])\n",
    "    of_connection.close()\n",
    "    pbar.update()\n",
    "    return {'iteration':ITERATION,'loss':loss, 'params':params, 'status':STATUS_OK}"
   ]
  },
  {
   "cell_type": "code",
   "execution_count": null,
   "id": "36dbbfc3",
   "metadata": {},
   "outputs": [],
   "source": [
    "space = {\n",
    "    'changepoint_prior_scale': hp.loguniform('changepoint_prior_scale', np.log(0.001), np.log(0.5)),\n",
    "    'seasonality_mode': hp.choice('seasonality_mode', ['additive', 'multiplicative']),\n",
    "    'seasonality_prior_scale': hp.loguniform('seasonality_prior_scale', np.log(0.01), np.log(10)),\n",
    "    'holidays_prior_scale': hp.loguniform('holidays_prior_scale', np.log(0.01), np.log(10)),\n",
    "    'changepoint_range': hp.uniform('changepoint_range', 0.80, 0.95)\n",
    "}\n",
    "# params = pyll.stochastic.sample(space)"
   ]
  },
  {
   "cell_type": "code",
   "execution_count": null,
   "id": "777bcbb0",
   "metadata": {},
   "outputs": [],
   "source": [
    "tpe_algorithm = tpe.suggest"
   ]
  },
  {
   "cell_type": "code",
   "execution_count": null,
   "id": "04a8b289",
   "metadata": {},
   "outputs": [],
   "source": [
    "# %store -r bayes_trials\n",
    "bayes_trials = Trials()"
   ]
  },
  {
   "cell_type": "code",
   "execution_count": null,
   "id": "6537d55a",
   "metadata": {},
   "outputs": [],
   "source": [
    "global  ITERATION\n",
    "ITERATION = 0"
   ]
  },
  {
   "cell_type": "code",
   "execution_count": null,
   "id": "6335fef3",
   "metadata": {},
   "outputs": [],
   "source": [
    "MAX_EVALS = 5\n",
    "best = fmin(fn = objective, space = space, algo = tpe_algorithm, max_evals = MAX_EVALS, trials = bayes_trials, show_progressbar=False)\n",
    "pbar.close()\n",
    "%store bayes_trials"
   ]
  },
  {
   "cell_type": "code",
   "execution_count": null,
   "id": "addfddd2",
   "metadata": {},
   "outputs": [],
   "source": [
    "'''final_data = pd.concat([train_data, predicted_data], axis=1)\n",
    "i = 9\n",
    "xdata = np.arange(1,73,1)\n",
    "plt.plot(xdata,data.iloc[i])\n",
    "plt.plot(xdata,final_data.iloc[i])\n",
    "plt.xlabel('Month')\n",
    "plt.ylabel(regions[i])\n",
    "plt.show()'''"
   ]
  }
 ],
 "metadata": {
  "kernelspec": {
   "display_name": "Python 3 (ipykernel)",
   "language": "python",
   "name": "python3"
  },
  "language_info": {
   "codemirror_mode": {
    "name": "ipython",
    "version": 3
   },
   "file_extension": ".py",
   "mimetype": "text/x-python",
   "name": "python",
   "nbconvert_exporter": "python",
   "pygments_lexer": "ipython3",
   "version": "3.9.7"
  }
 },
 "nbformat": 4,
 "nbformat_minor": 5
}
